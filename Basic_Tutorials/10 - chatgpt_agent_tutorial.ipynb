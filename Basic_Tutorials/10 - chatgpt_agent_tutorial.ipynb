{
 "cells": [
  {
   "cell_type": "markdown",
   "id": "6fa0c3de",
   "metadata": {},
   "source": [
    "# Building Intelligent Agents with ChatGPT: A Comprehensive Guide\n",
    "\n",
    "Welcome to this tutorial on creating intelligent agents using ChatGPT! In this guide, we'll explore what agents are, how they can be utilized, and walk through the process of building various types of agents with code examples. By the end, you'll have a solid understanding of how to leverage ChatGPT and alternative methods to create powerful AI-driven agents."
   ]
  },
  {
   "cell_type": "markdown",
   "id": "5e2f2d90",
   "metadata": {},
   "source": [
    "## Table of Contents\n",
    "\n",
    "1. [Introduction to Agents](#introduction-to-agents)\n",
    "2. [Setting Up the Environment](#setting-up-the-environment)\n",
    "3. [Building a Simple Chat Agent](#building-a-simple-chat-agent)\n",
    "4. [Creating an Agent with Tools](#creating-an-agent-with-tools)\n",
    "5. [Developing an Advanced Reasoning Agent](#developing-an-advanced-reasoning-agent)\n",
    "6. [Alternative Methods](#alternative-methods)\n",
    "7. [Conclusion](#conclusion)"
   ]
  },
  {
   "cell_type": "markdown",
   "id": "d486d39e",
   "metadata": {},
   "source": [
    "## Introduction to Agents\n",
    "\n",
    "An **agent** in the context of artificial intelligence is an autonomous entity that observes and acts upon an environment to achieve specific goals. Agents can perceive their environment through sensors and act upon that environment using actuators. In the realm of language models like ChatGPT, agents can process text inputs, perform reasoning, and generate outputs to accomplish tasks.\n",
    "\n",
    "### How Can Agents Be Used?\n",
    "\n",
    "- **Customer Support**: Automate responses to customer inquiries.\n",
    "- **Data Analysis**: Interpret and analyze datasets.\n",
    "- **Personal Assistants**: Manage schedules, reminders, and daily tasks.\n",
    "- **Content Creation**: Generate articles, summaries, and reports.\n",
    "- **Education**: Provide tutoring and answer questions."
   ]
  },
  {
   "cell_type": "markdown",
   "id": "f6723ba1",
   "metadata": {},
   "source": [
    "## Setting Up the Environment\n",
    "\n",
    "Before we begin coding, let's set up the necessary environment."
   ]
  },
  {
   "cell_type": "markdown",
   "id": "e5a1b558",
   "metadata": {},
   "source": [
    "### Install Required Packages\n",
    "\n",
    "We'll use the `openai` library to interact with ChatGPT and `langchain` for building agents."
   ]
  },
  {
   "cell_type": "code",
   "execution_count": null,
   "id": "21a75f2c",
   "metadata": {},
   "outputs": [],
   "source": [
    "!pip install openai langchain"
   ]
  },
  {
   "cell_type": "code",
   "execution_count": null,
   "id": "1e7a34d9",
   "metadata": {},
   "outputs": [],
   "source": [
    "import openai\n",
    "from langchain import OpenAI, LLMChain\n",
    "from langchain.agents import initialize_agent, Tool\n",
    "from langchain.prompts import PromptTemplate"
   ]
  },
  {
   "cell_type": "markdown",
   "id": "7c3bff49",
   "metadata": {},
   "source": [
    "### Set Up API Key\n",
    "\n",
    "Ensure you have an OpenAI API key. You can get one from [OpenAI's website](https://openai.com/api/)."
   ]
  },
  {
   "cell_type": "code",
   "execution_count": null,
   "id": "8f0bcae0",
   "metadata": {},
   "outputs": [],
   "source": [
    "import os\n",
    "\n",
    "# Set your OpenAI API key\n",
    "os.environ['OPENAI_API_KEY'] = 'your-api-key-here'"
   ]
  },
  {
   "cell_type": "markdown",
   "id": "fa6c6171",
   "metadata": {},
   "source": [
    "## Building a Simple Chat Agent\n",
    "\n",
    "Let's start by building a simple agent that can carry a conversation."
   ]
  },
  {
   "cell_type": "markdown",
   "id": "2e1c95a0",
   "metadata": {},
   "source": [
    "### Defining the Language Model\n",
    "\n",
    "We'll use the `OpenAI` class from `langchain` to define our language model."
   ]
  },
  {
   "cell_type": "code",
   "execution_count": null,
   "id": "34137dc3",
   "metadata": {},
   "outputs": [],
   "source": [
    "llm = OpenAI(model_name='gpt-3.5-turbo', temperature=0.7)"
   ]
  },
  {
   "cell_type": "markdown",
   "id": "8d4df4fe",
   "metadata": {},
   "source": [
    "### Creating a Prompt Template\n",
    "\n",
    "A prompt template helps in structuring the input for the language model."
   ]
  },
  {
   "cell_type": "code",
   "execution_count": null,
   "id": "a59324f1",
   "metadata": {},
   "outputs": [],
   "source": [
    "from langchain.prompts import PromptTemplate\n",
    "\n",
    "prompt = PromptTemplate(\n",
    "    input_variables=['user_input'],\n",
    "    template='You are a helpful assistant. {user_input}'\n",
    ")"
   ]
  },
  {
   "cell_type": "markdown",
   "id": "0db425f0",
   "metadata": {},
   "source": [
    "### Building the LLM Chain\n",
    "\n",
    "An LLM Chain connects the prompt template and the language model."
   ]
  },
  {
   "cell_type": "code",
   "execution_count": null,
   "id": "7ed9147e",
   "metadata": {},
   "outputs": [],
   "source": [
    "chain = LLMChain(llm=llm, prompt=prompt)"
   ]
  },
  {
   "cell_type": "markdown",
   "id": "9c5fd70f",
   "metadata": {},
   "source": [
    "### Running the Agent\n",
    "\n",
    "Now, let's interact with the agent."
   ]
  },
  {
   "cell_type": "code",
   "execution_count": null,
   "id": "67678670",
   "metadata": {},
   "outputs": [],
   "source": [
    "user_input = \"Can you tell me a joke?\"\n",
    "response = chain.run(user_input=user_input)\n",
    "print(response)"
   ]
  },
  {
   "cell_type": "markdown",
   "id": "1c2c5a90",
   "metadata": {},
   "source": [
    "## Creating an Agent with Tools\n",
    "\n",
    "Agents become more powerful when they can use tools, like accessing the internet or performing calculations."
   ]
  },
  {
   "cell_type": "markdown",
   "id": "1d5141a3",
   "metadata": {},
   "source": [
    "### Defining Tools\n",
    "\n",
    "We'll define a simple calculator tool."
   ]
  },
  {
   "cell_type": "code",
   "execution_count": null,
   "id": "e5f5a3b7",
   "metadata": {},
   "outputs": [],
   "source": [
    "def calculator(query):\n",
    "    try:\n",
    "        return str(eval(query))\n",
    "    except Exception as e:\n",
    "        return str(e)\n",
    "\n",
    "tools = [\n",
    "    Tool(\n",
    "        name=\"Calculator\",\n",
    "        func=calculator,\n",
    "        description=\"Useful for mathematical calculations.\"\n",
    "    )\n",
    "]"
   ]
  },
  {
   "cell_type": "markdown",
   "id": "f57fdf62",
   "metadata": {},
   "source": [
    "### Initializing the Agent\n",
    "\n",
    "We initialize the agent with the language model and the tools."
   ]
  },
  {
   "cell_type": "code",
   "execution_count": null,
   "id": "a813b928",
   "metadata": {},
   "outputs": [],
   "source": [
    "from langchain.agents import initialize_agent, AgentType\n",
    "\n",
    "agent = initialize_agent(\n",
    "    tools, \n",
    "    llm, \n",
    "    agent=AgentType.ZERO_SHOT_REACT_DESCRIPTION, \n",
    "    verbose=True\n",
    ")"
   ]
  },
  {
   "cell_type": "markdown",
   "id": "8a1b64bd",
   "metadata": {},
   "source": [
    "### Running the Agent with Tools\n"
   ]
  },
  {
   "cell_type": "code",
   "execution_count": null,
   "id": "8e6d6640",
   "metadata": {},
   "outputs": [],
   "source": [
    "response = agent.run(\"What is the square root of 16 plus 5?\")\n",
    "print(response)"
   ]
  },
  {
   "cell_type": "markdown",
   "id": "eb7ebd64",
   "metadata": {},
   "source": [
    "## Developing an Advanced Reasoning Agent\n",
    "\n",
    "Let's build an agent that can perform more complex tasks, like planning."
   ]
  },
  {
   "cell_type": "markdown",
   "id": "00e590ce",
   "metadata": {},
   "source": [
    "### Defining a Planning Prompt"
   ]
  },
  {
   "cell_type": "code",
   "execution_count": null,
   "id": "bf7a7ca2",
   "metadata": {},
   "outputs": [],
   "source": [
    "planning_prompt = PromptTemplate(\n",
    "    input_variables=['goal'],\n",
    "    template=\"\"\"\n",
    "    You are an AI planner. Develop a step-by-step plan to achieve the following goal:\n",
    "\n",
    "    Goal: {goal}\n",
    "\n",
    "    Plan:\n",
    "    \"\"\"\n",
    ")"
   ]
  },
  {
   "cell_type": "markdown",
   "id": "99b3f30d",
   "metadata": {},
   "source": [
    "### Building the Planning Chain"
   ]
  },
  {
   "cell_type": "code",
   "execution_count": null,
   "id": "45e405cf",
   "metadata": {},
   "outputs": [],
   "source": [
    "planning_chain = LLMChain(llm=llm, prompt=planning_prompt)"
   ]
  },
  {
   "cell_type": "markdown",
   "id": "bba63a5e",
   "metadata": {},
   "source": [
    "### Running the Planning Agent"
   ]
  },
  {
   "cell_type": "code",
   "execution_count": null,
   "id": "1f7a23a0",
   "metadata": {},
   "outputs": [],
   "source": [
    "goal = \"Organize a surprise birthday party.\"\n",
    "plan = planning_chain.run(goal=goal)\n",
    "print(plan)"
   ]
  },
  {
   "cell_type": "markdown",
   "id": "2a6442c0",
   "metadata": {},
   "source": [
    "## Alternative Methods\n",
    "\n",
    "Besides using `langchain`, you can directly interact with the OpenAI API or use other libraries like `LlamaIndex`."
   ]
  },
  {
   "cell_type": "markdown",
   "id": "b8a2fbe8",
   "metadata": {},
   "source": [
    "### Using the OpenAI API Directly"
   ]
  },
  {
   "cell_type": "code",
   "execution_count": null,
   "id": "570feab1",
   "metadata": {},
   "outputs": [],
   "source": [
    "import openai\n",
    "\n",
    "def chat_with_gpt(prompt):\n",
    "    response = openai.ChatCompletion.create(\n",
    "        model='gpt-3.5-turbo',\n",
    "        messages=[{'role': 'user', 'content': prompt}]\n",
    "    )\n",
    "    return response['choices'][0]['message']['content']\n",
    "\n",
    "output = chat_with_gpt(\"Tell me about the Eiffel Tower.\")\n",
    "print(output)"
   ]
  },
  {
   "cell_type": "markdown",
   "id": "4bff4d1b",
   "metadata": {},
   "source": [
    "### Using LlamaIndex\n",
    "\n",
    "LlamaIndex is another library for building applications with LLMs."
   ]
  },
  {
   "cell_type": "code",
   "execution_count": null,
   "id": "9bce6389",
   "metadata": {},
   "outputs": [],
   "source": [
    "!pip install llama-index"
   ]
  },
  {
   "cell_type": "code",
   "execution_count": null,
   "id": "0e94dbba",
   "metadata": {},
   "outputs": [],
   "source": [
    "from llama_index import GPTSimpleVectorIndex, SimpleDirectoryReader\n",
    "\n",
    "documents = SimpleDirectoryReader('data').load_data()\n",
    "index = GPTSimpleVectorIndex(documents)\n",
    "response = index.query(\"Summarize the documents.\")\n",
    "print(response)"
   ]
  },
  {
   "cell_type": "markdown",
   "id": "2189d2a0",
   "metadata": {},
   "source": [
    "## Conclusion\n",
    "\n",
    "In this tutorial, we've explored how to create various types of agents using ChatGPT. From simple chat agents to advanced reasoning agents, we've seen how tools like `langchain` can simplify the process. We also looked at alternative methods like directly using the OpenAI API and other libraries like `LlamaIndex`."
   ]
  },
  {
   "cell_type": "markdown",
   "id": "6b9983e7",
   "metadata": {},
   "source": [
    "### Key Takeaways\n",
    "\n",
    "- **Agents** are autonomous entities that can perform tasks using AI.\n",
    "- **Language Models** like ChatGPT can be used to build powerful agents.\n",
    "- **Tools and Libraries** like `langchain` simplify agent development.\n",
    "- **Alternative Methods** provide flexibility depending on your needs.\n",
    "\n",
    "---\n",
    "\n",
    "Thank you for following along! Feel free to experiment further and build your own custom agents."
   ]
  }
 ],
 "metadata": {
  "kernelspec": {
   "display_name": "Python 3",
   "language": "python",
   "name": "python3"
  },
  "language_info": {
   "codemirror_mode": {
    "name": "ipython",
    "version": 3
   },
   "file_extension": ".py",
   "mimetype": "text/x-python",
   "name": "python",
   "nbconvert_exporter": "python",
   "pygments_lexer": "ipython3",
   "version": "3.8"
  }
 },
 "nbformat": 4,
 "nbformat_minor": 5
}
