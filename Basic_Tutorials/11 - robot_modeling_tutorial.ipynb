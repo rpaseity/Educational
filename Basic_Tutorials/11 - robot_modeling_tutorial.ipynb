{
 "cells": [
  {
   "cell_type": "markdown",
   "id": "c3a7aeca",
   "metadata": {},
   "source": [
    "# Building a Robot Model: From Fusion 360 to Real and Digital Twins\n",
    "\n",
    "This tutorial guides you through the pipeline of creating a robot model in AutoDesk Fusion 360 and porting it to simulation environments like Gazebo, RViz, and NVIDIA Omniverse. We'll cover configuring URDF files to animate and control the robot, and how to export designs from Fusion 360 for 3D printing to build a real robot, achieving a real and digital twin.\n",
    "\n",
    "## Table of Contents\n",
    "\n",
    "1. [Introduction](#introduction)\n",
    "2. [Creating a Robot Model in Fusion 360](#creating-a-robot-model-in-fusion-360)\n",
    "3. [Exporting the Model from Fusion 360](#exporting-the-model-from-fusion-360)\n",
    "4. [Preparing the Model for ROS](#preparing-the-model-for-ros)\n",
    "   - [Converting to COLLADA (.dae) Format](#converting-to-collada-dae-format)\n",
    "   - [Setting Up the URDF](#setting-up-the-urdf)\n",
    "5. [Simulating in Gazebo](#simulating-in-gazebo)\n",
    "6. [Visualizing in RViz](#visualizing-in-rviz)\n",
    "7. [Porting to NVIDIA Omniverse](#porting-to-nvidia-omniverse)\n",
    "8. [Exporting for 3D Printing](#exporting-for-3d-printing)\n",
    "9. [Building the Real Robot](#building-the-real-robot)\n",
    "10. [Achieving Real and Digital Twin](#achieving-real-and-digital-twin)\n",
    "11. [Conclusion](#conclusion)\n",
    "\n",
    "---"
   ]
  },
  {
   "cell_type": "markdown",
   "id": "b1a6e7ae",
   "metadata": {},
   "source": [
    "## Introduction\n",
    "\n",
    "Creating a robot involves both mechanical design and software configuration. By designing in Fusion 360 and using simulation tools like Gazebo and RViz, you can create a digital twin of your robot. Exporting the design for 3D printing allows you to build the physical robot, achieving a real-world counterpart to your simulation.\n",
    "\n",
    "**Key Components:**\n",
    "- **Fusion 360**: CAD software for designing the robot model.\n",
    "- **Gazebo**: Simulation environment for testing robot physics.\n",
    "- **RViz**: Visualization tool for robot models in ROS.\n",
    "- **NVIDIA Omniverse**: Advanced simulation platform for robotics.\n",
    "- **URDF**: Unified Robot Description Format, an XML format for representing a robot model.\n",
    "- **ROS**: Robot Operating System, a flexible framework for writing robot software."
   ]
  },
  {
   "cell_type": "markdown",
   "id": "58ecbe14",
   "metadata": {},
   "source": [
    "## Creating a Robot Model in Fusion 360\n",
    "\n",
    "Start by designing your robot in Fusion 360.\n",
    "\n",
    "### Steps:\n",
    "\n",
    "1. **Sketching**: Use the sketch tools to create the basic shapes of your robot components.\n",
    "2. **Extruding**: Turn sketches into 3D models by extruding shapes.\n",
    "3. **Assembling**: Combine different parts using joints to simulate real-world movement.\n",
    "   - Use **Revolute Joints** for rotational movement.\n",
    "   - Use **Prismatic Joints** for linear movement.\n",
    "4. **Naming Conventions**: Name your components and joints clearly for easier mapping later.\n",
    "\n",
    "**Tips:**\n",
    "- Keep the design modular.\n",
    "- Ensure that all moving parts have the correct degrees of freedom."
   ]
  },
  {
   "cell_type": "markdown",
   "id": "fb10d2b7",
   "metadata": {},
   "source": [
    "## Exporting the Model from Fusion 360\n",
    "\n",
    "Once your design is complete, you'll need to export it for use in other applications.\n",
    "\n",
    "### Steps:\n",
    "\n",
    "1. **Prepare Components**: Ensure all components are bodies or components in Fusion 360.\n",
    "2. **Export Format**: Use the **FBX** or **STEP** format for exporting the entire assembly.\n",
    "   - Go to **File > Export > Select Format**.\n",
    "3. **Export Individual Parts** (Optional): If needed, export individual parts for detailed control.\n",
    "\n",
    "**Note:** FBX is suitable for exporting models with textures, while STEP is better for solid models."
   ]
  },
  {
   "cell_type": "markdown",
   "id": "12d8d711",
   "metadata": {},
   "source": [
    "## Preparing the Model for ROS\n",
    "\n",
    "To use your model in ROS, you'll need to convert it to a compatible format and create a URDF file."
   ]
  },
  {
   "cell_type": "markdown",
   "id": "e41345c5",
   "metadata": {},
   "source": [
    "### Converting to COLLADA (.dae) Format\n",
    "\n",
    "ROS prefers the COLLADA (.dae) format for meshes.\n",
    "\n",
    "#### Steps:\n",
    "\n",
    "1. **Use MeshLab or Blender**: Import your FBX or STEP file into MeshLab or Blender.\n",
    "2. **Export as .dae**: From MeshLab or Blender, export the model as a COLLADA (.dae) file.\n",
    "   - Ensure that the scale and units are consistent.\n",
    "\n",
    "**Commands (Blender Scripting):**"
   ]
  },
  {
   "cell_type": "code",
   "execution_count": null,
   "id": "9fe5d707",
   "metadata": {},
   "outputs": [],
   "source": [
    "# Blender Python script to batch convert FBX to DAE\n",
    "\n",
    "import bpy\n",
    "import sys\n",
    "import os\n",
    "\n",
    "# Specify the directory containing FBX files\n",
    "input_dir = '/path/to/fbx_files'\n",
    "\n",
    "# Specify the output directory\n",
    "output_dir = '/path/to/dae_files'\n",
    "\n",
    "for filename in os.listdir(input_dir):\n",
    "    if filename.endswith('.fbx'):\n",
    "        filepath = os.path.join(input_dir, filename)\n",
    "        bpy.ops.import_scene.fbx(filepath=filepath)\n",
    "        # Export to COLLADA\n",
    "        dae_filename = filename.replace('.fbx', '.dae')\n",
    "        dae_filepath = os.path.join(output_dir, dae_filename)\n",
    "        bpy.ops.wm.collada_export(filepath=dae_filepath)\n",
    "        # Clean up\n",
    "        bpy.ops.object.select_all(action='SELECT')\n",
    "        bpy.ops.object.delete()"
   ]
  },
  {
   "cell_type": "markdown",
   "id": "fba7b643",
   "metadata": {},
   "source": [
    "**Note:** This script automates the conversion process if you have multiple files."
   ]
  },
  {
   "cell_type": "markdown",
   "id": "4d1053b3",
   "metadata": {},
   "source": [
    "### Setting Up the URDF\n",
    "\n",
    "The URDF (Unified Robot Description Format) file describes your robot model in XML format.\n",
    "\n",
    "#### Directory Structure:\n",
    "\n",
    "```\n",
    "my_robot_description/\n",
    "├── launch/\n",
    "│   └── display.launch\n",
    "├── meshes/\n",
    "│   └── [your .dae files]\n",
    "└── urdf/\n",
    "    └── my_robot.urdf\n",
    "```\n",
    "\n",
    "#### Sample URDF File:"
   ]
  },
  {
   "cell_type": "code",
   "execution_count": null,
   "id": "e5f469b1",
   "metadata": {},
   "outputs": [],
   "source": [
    "<?xml version=\"1.0\"?>\n",
    "<robot name=\"my_robot\">\n",
    "  <!-- Link Definitions -->\n",
    "  <link name=\"base_link\">\n",
    "    <visual>\n",
    "      <geometry>\n",
    "        <mesh filename=\"package://my_robot_description/meshes/base_link.dae\"/>\n",
    "      </geometry>\n",
    "    </visual>\n",
    "    <collision>\n",
    "      <geometry>\n",
    "        <mesh filename=\"package://my_robot_description/meshes/base_link.dae\"/>\n",
    "      </geometry>\n",
    "    </collision>\n",
    "  </link>\n",
    "  <!-- Joint Definitions -->\n",
    "  <joint name=\"joint1\" type=\"revolute\">\n",
    "    <parent link=\"base_link\"/>\n",
    "    <child link=\"link1\"/>\n",
    "    <origin xyz=\"0 0 0.1\" rpy=\"0 0 0\"/>\n",
    "    <axis xyz=\"0 0 1\"/>\n",
    "    <limit lower=\"-1.57\" upper=\"1.57\" effort=\"10\" velocity=\"1\"/>\n",
    "  </joint>\n",
    "  <!-- Additional links and joints -->\n",
    "</robot>"
   ]
  },
  {
   "cell_type": "markdown",
   "id": "1a6ac3cf",
   "metadata": {},
   "source": [
    "**Explanation:**\n",
    "- **Links**: Define the physical parts of the robot.\n",
    "- **Joints**: Define how the links are connected and move relative to each other.\n",
    "- **Mesh Files**: Refer to your exported .dae files for the visual and collision properties.\n",
    "\n",
    "**Tips:**\n",
    "- Use consistent naming between your Fusion 360 model and URDF.\n",
    "- Ensure the file paths to the meshes are correct."
   ]
  },
  {
   "cell_type": "markdown",
   "id": "b11a4811",
   "metadata": {},
   "source": [
    "## Simulating in Gazebo\n",
    "\n",
    "Gazebo allows you to simulate the physics of your robot in a virtual environment.\n",
    "\n",
    "### Steps:\n",
    "\n",
    "1. **Install ROS and Gazebo**: Ensure you have ROS and Gazebo installed.\n",
    "2. **Create a Launch File**: In the `launch` directory, create a `gazebo.launch` file.\n",
    "\n",
    "#### gazebo.launch Example:"
   ]
  },
  {
   "cell_type": "code",
   "execution_count": null,
   "id": "0cfe1d6e",
   "metadata": {},
   "outputs": [],
   "source": [
    "<launch>\n",
    "  <param name=\"robot_description\" command=\"$(find xacro)/xacro '$(find my_robot_description)/urdf/my_robot.urdf'\"/>\n",
    "  <node name=\"gazebo\" pkg=\"gazebo_ros\" type=\"gazebo\" args=\"--verbose -s libgazebo_ros_factory.so\" output=\"screen\"/>\n",
    "  <node name=\"spawn_urdf\" pkg=\"gazebo_ros\" type=\"spawn_model\" args=\"-param robot_description -urdf -model my_robot\"/>\n",
    "</launch>"
   ]
  },
  {
   "cell_type": "markdown",
   "id": "5c7c0b45",
   "metadata": {},
   "source": [
    "3. **Launch Gazebo**:\n",
    "\n",
    "```bash\n",
    "roslaunch my_robot_description gazebo.launch\n",
    "```\n",
    "\n",
    "4. **Test Movements**: Use ROS topics or controllers to move the robot joints."
   ]
  },
  {
   "cell_type": "markdown",
   "id": "b89334c5",
   "metadata": {},
   "source": [
    "## Visualizing in RViz\n",
    "\n",
    "RViz allows you to visualize the robot's state and sensor data.\n",
    "\n",
    "### Steps:\n",
    "\n",
    "1. **Create a Display Launch File**: In the `launch` directory, create `display.launch`.\n",
    "\n",
    "#### display.launch Example:"
   ]
  },
  {
   "cell_type": "code",
   "execution_count": null,
   "id": "0f209624",
   "metadata": {},
   "outputs": [],
   "source": [
    "<launch>\n",
    "  <param name=\"robot_description\" command=\"$(find xacro)/xacro '$(find my_robot_description)/urdf/my_robot.urdf'\"/>\n",
    "  <node name=\"joint_state_publisher\" pkg=\"joint_state_publisher\" type=\"joint_state_publisher\" />\n",
    "  <node name=\"robot_state_publisher\" pkg=\"robot_state_publisher\" type=\"robot_state_publisher\" />\n",
    "  <node name=\"rviz\" pkg=\"rviz\" type=\"rviz\" args=\"-d $(find my_robot_description)/rviz/my_robot.rviz\" />\n",
    "</launch>"
   ]
  },
  {
   "cell_type": "markdown",
   "id": "c6265bd0",
   "metadata": {},
   "source": [
    "2. **Launch RViz**:\n",
    "\n",
    "```bash\n",
    "roslaunch my_robot_description display.launch\n",
    "```\n",
    "\n",
    "3. **Configure RViz**: Add displays for robot model, TF, and any sensors."
   ]
  },
  {
   "cell_type": "markdown",
   "id": "1bf7991d",
   "metadata": {},
   "source": [
    "## Porting to NVIDIA Omniverse\n",
    "\n",
    "NVIDIA Omniverse provides advanced simulation capabilities.\n",
    "\n",
    "### Steps:\n",
    "\n",
    "1. **Install Omniverse**: Download and install the Omniverse launcher and Omniverse Isaac Sim.\n",
    "2. **Export USD Files**: Omniverse uses the USD format.\n",
    "   - Use Blender to convert .dae or .fbx files to .usd.\n",
    "\n",
    "#### Blender Script to Export USD:"
   ]
  },
  {
   "cell_type": "code",
   "execution_count": null,
   "id": "bb7a223e",
   "metadata": {},
   "outputs": [],
   "source": [
    "import bpy\n",
    "import os\n",
    "\n",
    "input_dir = '/path/to/dae_files'\n",
    "output_dir = '/path/to/usd_files'\n",
    "\n",
    "for filename in os.listdir(input_dir):\n",
    "    if filename.endswith('.dae'):\n",
    "        filepath = os.path.join(input_dir, filename)\n",
    "        bpy.ops.wm.collada_import(filepath=filepath)\n",
    "        usd_filename = filename.replace('.dae', '.usd')\n",
    "        usd_filepath = os.path.join(output_dir, usd_filename)\n",
    "        bpy.ops.wm.usd_export(filepath=usd_filepath)\n",
    "        # Clean up\n",
    "        bpy.ops.object.select_all(action='SELECT')\n",
    "        bpy.ops.object.delete()"
   ]
  },
  {
   "cell_type": "markdown",
   "id": "6b87482c",
   "metadata": {},
   "source": [
    "3. **Import into Omniverse Isaac Sim**:\n",
    "   - Open Isaac Sim and import your USD robot model.\n",
    "4. **Set Up Simulation**:\n",
    "   - Configure physics, sensors, and control scripts."
   ]
  },
  {
   "cell_type": "markdown",
   "id": "cd8d4728",
   "metadata": {},
   "source": [
    "## Exporting for 3D Printing\n",
    "\n",
    "To build a physical robot, you'll need to export your design for 3D printing.\n",
    "\n",
    "### Steps:\n",
    "\n",
    "1. **Prepare the Model**:\n",
    "   - Ensure that all parts are manifold and suitable for printing.\n",
    "   - Consider the print orientation and support structures.\n",
    "2. **Export as STL**:\n",
    "   - In Fusion 360, right-click a body or component and select **Save As Mesh**.\n",
    "   - Choose **STL** format.\n",
    "3. **Upload to 3D Print Service**:\n",
    "   - Use services like **Shapeways**, **Materialise**, or **3D Hubs**.\n",
    "   - Upload the STL files and select materials.\n",
    "4. **Order the Prints**."
   ]
  },
  {
   "cell_type": "markdown",
   "id": "be8c4d0a",
   "metadata": {},
   "source": [
    "## Building the Real Robot\n",
    "\n",
    "With the printed parts, you can assemble your robot.\n",
    "\n",
    "### Steps:\n",
    "\n",
    "1. **Gather Components**:\n",
    "   - 3D printed parts.\n",
    "   - Motors, sensors, controllers.\n",
    "   - Fasteners (screws, nuts, bolts).\n",
    "2. **Assemble Mechanical Parts**:\n",
    "   - Follow your design to assemble the robot.\n",
    "3. **Integrate Electronics**:\n",
    "   - Install motors and sensors.\n",
    "   - Wire components to the controller (e.g., Arduino, Raspberry Pi).\n",
    "4. **Program the Robot**:\n",
    "   - Use ROS to control the robot.\n",
    "   - Deploy the same control scripts used in simulation."
   ]
  },
  {
   "cell_type": "markdown",
   "id": "fcfc4d07",
   "metadata": {},
   "source": [
    "## Achieving Real and Digital Twin\n",
    "\n",
    "By simulating the robot in Gazebo/RViz and building the physical robot, you create a digital and real twin.\n",
    "\n",
    "### Steps:\n",
    "\n",
    "1. **Synchronize Control Software**:\n",
    "   - Use the same ROS nodes for both simulation and real robot.\n",
    "2. **Feedback Loops**:\n",
    "   - Collect data from the real robot to improve the simulation.\n",
    "   - Update the simulation parameters based on real-world performance.\n",
    "3. **Testing**:\n",
    "   - Test behaviors in simulation before deploying to the physical robot.\n",
    "4. **Visualization**:\n",
    "   - Use RViz to visualize real-time data from the physical robot."
   ]
  },
  {
   "cell_type": "markdown",
   "id": "5d38dd99",
   "metadata": {},
   "source": [
    "## Conclusion\n",
    "\n",
    "In this tutorial, we've walked through the entire pipeline of creating a robot model in Fusion 360, preparing it for simulation in Gazebo and RViz, porting it to NVIDIA Omniverse, and exporting it for 3D printing to build a physical robot. By following these steps, you can achieve a real and digital twin of your robot, allowing for advanced testing and development.\n",
    "\n",
    "**Next Steps:**\n",
    "- Experiment with different robot designs.\n",
    "- Integrate advanced sensors and actuators.\n",
    "- Explore machine learning for robot control.\n",
    "- Share your creations with the community."
   ]
  },
  {
   "cell_type": "markdown",
   "id": "cdba7d2a",
   "metadata": {},
   "source": [
    "---\n",
    "\n",
    "**Happy Building!**\n",
    "\n",
    "Additional Resources:\n",
    "\n",
    "- ROS Documentation: http://wiki.ros.org/\n",
    "- Gazebo Tutorials: http://gazebosim.org/tutorials\n",
    "- NVIDIA Omniverse: https://www.nvidia.com/en-us/omniverse/\n",
    "- Fusion 360 Tutorials: https://help.autodesk.com/view/fusion360/ENU/\n",
    "\n",
    "Enjoy your journey in robotics modeling and simulation!"
   ]
  }
 ],
 "metadata": {
  "kernelspec": {
   "display_name": "Python 3",
   "language": "python",
   "name": "python3"
  },
  "language_info": {
   "codemirror_mode": {
    "name": "ipython",
    "version": 3
   },
   "file_extension": ".py",
   "mimetype": "text/x-python",
   "name": "python",
   "nbconvert_exporter": "python",
   "pygments_lexer": "ipython3",
   "version": "3.8"
  }
 },
 "nbformat": 4,
 "nbformat_minor": 5
}
