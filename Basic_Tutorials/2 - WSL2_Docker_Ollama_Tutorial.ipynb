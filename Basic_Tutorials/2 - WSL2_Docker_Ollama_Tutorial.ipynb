{
 "cells": [
  {
   "cell_type": "markdown",
   "id": "0f0fc63c",
   "metadata": {},
   "source": [
    "# Installing Docker on WSL 2 with Ollama"
   ]
  },
  {
   "cell_type": "markdown",
   "id": "2496c537",
   "metadata": {},
   "source": [
    "## Introduction\n",
    "As developers seek more efficient and scalable solutions for application development, tools like Docker and enhancements like Windows Subsystem for Linux (WSL) 2 become invaluable. This tutorial guides you through setting up Docker on WSL 2 with the integration of Ollama, enhancing your development environment on Windows 11.\n",
    "\n",
    "### Why Docker on WSL 2 with Ollama?\n",
    "Combining Docker with WSL 2 allows developers to harness the robustness of Linux and the containerization benefits of Docker directly on a Windows system. Ollama further simplifies the deployment and management of large language models and other intensive applications within this setup, offering a streamlined workflow for development and deployment:\n",
    "\n",
    "- Docker ensures your applications run consistently across different environments by using containers.\n",
    "- WSL 2 provides a genuine Linux kernel that improves performance and compatibility over its predecessor.\n",
    "- Ollama facilitates the easy setup and use of machine learning models, making it ideal for developers looking to integrate AI capabilities into their applications."
   ]
  },
  {
   "cell_type": "markdown",
   "id": "b6c76fe2",
   "metadata": {},
   "source": [
    "# Installing Docker Desktop on Windows"
   ]
  },
  {
   "cell_type": "markdown",
   "id": "d36a6ff9",
   "metadata": {},
   "source": [
    "## Step 1: Download Docker Desktop\n",
    "Go to the [Docker Hub website](https://www.docker.com/products/docker-desktop) and download the Docker Desktop installer for Windows."
   ]
  },
  {
   "cell_type": "markdown",
   "id": "5423bcdb",
   "metadata": {},
   "source": [
    "## Step 2: Install Docker Desktop\n",
    "Run the installer and follow the on-screen instructions to install Docker Desktop on Windows. During installation, ensure the 'WSL 2 based engine' option is selected to integrate Docker with your WSL 2 environment."
   ]
  },
  {
   "cell_type": "markdown",
   "id": "c5070dbd",
   "metadata": {},
   "source": [
    "## Step 3: Configure and Verify\n",
    "After installation, launch Docker Desktop and go to Settings > Resources > WSL Integration to enable your installed distributions. Verify the installation by opening a terminal and typing `docker version` to see details about Docker running on your system."
   ]
  },
  {
   "cell_type": "markdown",
   "id": "af10cfc6",
   "metadata": {},
   "source": [
    "## Installing Docker on WSL 2\n",
    "Follow these steps to install and configure Docker on your WSL 2 environment."
   ]
  },
  {
   "cell_type": "code",
   "execution_count": null,
   "id": "fd6e94a4",
   "metadata": {},
   "outputs": [],
   "source": [
    "sudo apt update && sudo apt install -y docker.io"
   ]
  },
  {
   "cell_type": "code",
   "execution_count": null,
   "id": "a5e6be48",
   "metadata": {},
   "outputs": [],
   "source": [
    "sudo service docker start"
   ]
  },
  {
   "cell_type": "markdown",
   "id": "1154d21e",
   "metadata": {},
   "source": [
    "## Setting Up Docker to Use the GPU\n",
    "Install NVIDIA Docker toolkit and configure it."
   ]
  },
  {
   "cell_type": "code",
   "execution_count": null,
   "id": "4f1740ec",
   "metadata": {},
   "outputs": [],
   "source": [
    "distribution=$(. /etc/os-release;echo $ID$VERSION_ID)\n",
    "curl -s -L https://nvidia.github.io/nvidia-docker/gpgkey | sudo apt-key add -\n",
    "curl -s -L https://nvidia.github.io/nvidia-docker/$distribution/nvidia-docker.list | sudo tee /etc/apt/sources.list.d/nvidia-docker.list"
   ]
  },
  {
   "cell_type": "code",
   "execution_count": null,
   "id": "d259f9fb",
   "metadata": {},
   "outputs": [],
   "source": [
    "sudo apt update && sudo apt install -y nvidia-docker2"
   ]
  },
  {
   "cell_type": "code",
   "execution_count": null,
   "id": "1945bb8a",
   "metadata": {},
   "outputs": [],
   "source": [
    "sudo systemctl restart docker"
   ]
  },
  {
   "cell_type": "markdown",
   "id": "d401500f",
   "metadata": {},
   "source": [
    "## Pulling and Running the Ollama Container\n",
    "Commands to pull and run Ollama with GPU support."
   ]
  },
  {
   "cell_type": "code",
   "execution_count": null,
   "id": "79580264",
   "metadata": {},
   "outputs": [],
   "source": [
    "docker pull ollama/ollama:latest\n",
    "docker run --gpus all ollama/ollama:latest --gpu-all"
   ]
  },
  {
   "cell_type": "markdown",
   "id": "a90708b2",
   "metadata": {},
   "source": [
    "## Verifying the Setup\n",
    "Ensure that Ollama is utilizing GPU resources correctly."
   ]
  },
  {
   "cell_type": "code",
   "execution_count": null,
   "id": "e14b0b52",
   "metadata": {},
   "outputs": [],
   "source": [
    "docker logs <container_id>"
   ]
  },
  {
   "cell_type": "markdown",
   "id": "d91b29c4",
   "metadata": {},
   "source": [
    "## Conclusion\n",
    "Installing Docker on WSL 2 with Ollama offers a potent combination for developers looking to integrate advanced software development tools into their Windows environment. This setup not only facilitates greater efficiency and consistency in application development but also simplifies the deployment of complex software solutions, particularly in the realms of AI and machine learning."
   ]
  }
 ],
 "metadata": {
  "language_info": {
   "name": "python"
  }
 },
 "nbformat": 4,
 "nbformat_minor": 5
}
