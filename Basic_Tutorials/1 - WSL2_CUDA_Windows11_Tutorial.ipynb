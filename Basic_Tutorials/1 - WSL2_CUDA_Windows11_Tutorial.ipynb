{
 "cells": [
  {
   "cell_type": "markdown",
   "id": "452f0153",
   "metadata": {},
   "source": [
    "# Accelerating Development: Setting Up WSL 2 with CUDA Support on Windows 11"
   ]
  },
  {
   "cell_type": "markdown",
   "id": "73b6029d",
   "metadata": {},
   "source": [
    "## Introduction\n",
    "With the rise of data science and machine learning projects, developers often need access to powerful tools and environments that support heavy computational tasks. Windows Subsystem for Linux (WSL) 2 and NVIDIA's CUDA are pivotal in providing such capabilities on Windows machines. This tutorial post explores how to combine the versatility of Linux with the computational power of NVIDIA GPUs through WSL 2 on Windows 11, offering a seamless and potent development environment.  This tutorial will guide you through setting up Windows Subsystem for Linux (WSL) 2 with CUDA support for GPU computing on Windows 11.\n",
    "\n",
    "## Why WSL 2 with CUDA?\n",
    "WSL 2 offers a genuine Linux kernel running directly on Windows 11, providing remarkable performance improvements and full system call compatibility. This is a game-changer for developers who prefer or require Linux's flexibility but need or want to stay within the Windows ecosystem.\n",
    "\n",
    "Integrating CUDA into this setup allows developers to leverage NVIDIA GPUs for tasks requiring massive parallel computing power, such as deep learning and complex simulations. This capability significantly speeds up computing tasks and supports a broader range of development activities directly from a Windows environment.\n",
    "\n",
    "![Ubuntu on WSL2](https://x410.dev/cookbook/img/wsl2-systemd/ubuntu-2204-full-desktop.jpg)\n",
    "\n",
    "*Image Source: [X410](https://x410.dev/cookbook/wsl/enable-systemd-in-wsl2-and-have-the-best-ubuntu-gui-desktop-experience/)*"
   ]
  },
  {
   "cell_type": "markdown",
   "id": "296e202d",
   "metadata": {},
   "source": [
    "## Prerequisites\n",
    "- Ensure your system supports WSL 2 and has a compatible NVIDIA GPU.\n",
    "- Update Windows 11 to the latest version."
   ]
  },
  {
   "cell_type": "markdown",
   "id": "cd9ca40e",
   "metadata": {},
   "source": [
    "## Enabling WSL 2\n",
    "Follow these steps to enable WSL 2 and install a Linux distribution from the Microsoft Store."
   ]
  },
  {
   "cell_type": "code",
   "execution_count": null,
   "id": "5fb438eb",
   "metadata": {},
   "outputs": [],
   "source": [
    "# Enable WSL\n",
    "wsl --install"
   ]
  },
  {
   "cell_type": "markdown",
   "id": "1fa70eab",
   "metadata": {},
   "source": [
    "## Setting Up Linux and Updating WSL 2\n",
    "Initialize your Linux distribution and set it to use WSL 2."
   ]
  },
  {
   "cell_type": "code",
   "execution_count": null,
   "id": "281b1da9",
   "metadata": {},
   "outputs": [],
   "source": [
    "# Set default version to WSL 2\n",
    "wsl --set-default-version 2"
   ]
  },
  {
   "cell_type": "markdown",
   "id": "ba19bb71",
   "metadata": {},
   "source": [
    "## Installing NVIDIA CUDA Toolkit\n",
    "Install the NVIDIA drivers and CUDA toolkit in your WSL 2 environment."
   ]
  },
  {
   "cell_type": "code",
   "execution_count": null,
   "id": "1c4beed3",
   "metadata": {},
   "outputs": [],
   "source": [
    "sudo apt update && sudo apt install -y nvidia-cuda-toolkit"
   ]
  },
  {
   "cell_type": "markdown",
   "id": "abc8d6af",
   "metadata": {},
   "source": [
    "## Configuring the Environment\n",
    "Set up necessary environment variables for CUDA."
   ]
  },
  {
   "cell_type": "code",
   "execution_count": null,
   "id": "2f241316",
   "metadata": {},
   "outputs": [],
   "source": [
    "echo \"export PATH=/usr/local/cuda/bin:$PATH\" >> ~/.bashrc && source ~/.bashrc"
   ]
  },
  {
   "cell_type": "markdown",
   "id": "5382349b",
   "metadata": {},
   "source": [
    "## Verifying CUDA Installation\n",
    "Run a sample project to verify that CUDA is set up correctly."
   ]
  },
  {
   "cell_type": "code",
   "execution_count": null,
   "id": "6d14ce9b",
   "metadata": {},
   "outputs": [],
   "source": [
    "nvcc --version"
   ]
  },
  {
   "cell_type": "markdown",
   "id": "c8fb756c",
   "metadata": {},
   "source": [
    "### Practical Applications\n",
    "With CUDA enabled on WSL 2, you can:\n",
    "\n",
    "- Develop and test machine learning models directly on your Windows machine.\n",
    "- Run simulations and data analyses without needing a dual-boot or dedicated Linux machine.\n",
    "\n",
    "### Benefits and Considerations\n",
    "\n",
    "#### Advantages\n",
    "\n",
    "- Unified environment: Run Linux and Windows applications side-by-side.\n",
    "- Performance: Leverage the full power of your hardware directly from Windows.\n",
    "\n",
    "#### Considerations\n",
    "- Compatibility: Ensure all components are compatible, particularly the GPU and its drivers with WSL 2.\n",
    "- Resource allocation: Running intensive tasks might require adjusting system resources allocated to WSL 2."
   ]
  },
  {
   "cell_type": "markdown",
   "id": "b987dd4c",
   "metadata": {},
   "source": [
    "## Conclusion\n",
    "Setting up WSL 2 with CUDA support on Windows 11 is a powerful combination that can significantly enhance your development capabilities, allowing you to use Linux’s robustness and Windows’ functionality in one integrated environment. Whether you're developing AI applications, running simulations, or processing large datasets, this setup ensures you have the necessary power at your fingertips."
   ]
  }
 ],
 "metadata": {
  "language_info": {
   "name": "python"
  }
 },
 "nbformat": 4,
 "nbformat_minor": 5
}
