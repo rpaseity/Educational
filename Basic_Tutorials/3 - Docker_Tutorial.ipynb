{
 "cells": [
  {
   "cell_type": "markdown",
   "id": "c1e2344c",
   "metadata": {},
   "source": [
    "# Docker Tutorial"
   ]
  },
  {
   "cell_type": "markdown",
   "id": "e43fdfd7",
   "metadata": {},
   "source": [
    "## Introduction to Docker\n",
    "In the rapidly evolving world of software development, Docker has emerged as a revolutionary tool, making it easier to create, deploy, and run applications using containers. This blog post offers a beginner-friendly introduction to Docker, guiding you through its fundamental concepts and how to get started.\n",
    "\n",
    "## What is Docker?\n",
    "Docker is a platform that uses containerization technology to \"containerize\" your applications, encapsulating them into self-contained environments that run consistently across any platform. Docker containers ensure that your application works seamlessly in any environment, from a developer's personal laptop to a high-load production server.\n",
    "\n",
    "![Docker](https://miro.medium.com/v2/resize:fit:1400/format:webp/0*G82uZfX0ozIih3-_)\n",
    "\n",
    "*Image Source: [Medium](https://praveendandu24.medium.com/understanding-docker-architecture-an-in-depth-overview-of-docker-components-and-usage-f1a26bd217f9)*\n",
    "### Why Use Docker?\n",
    "- Consistency: Docker containers offer an environment consistent from development to production, reducing the \"it works on my machine\" syndrome.\n",
    "- Efficiency: Containers allow applications to use the same OS kernel but run in isolated spaces, making them lighter and faster than traditional virtual machines.\n",
    "- Scalability: Easily scale up or down by quickly creating more containers when demand increases.\n",
    "### Getting Started with Docker\n",
    "Follow this guide to set up Docker and understand its core functionalities:\n",
    "\n",
    "### 1. Installing Docker\n",
    "The first step is to install Docker Desktop on your machine, which is straightforward and supports Windows, Mac, and Linux. Visit https://docker.com to download the Docker installer for your OS"
   ]
  },
  {
   "cell_type": "markdown",
   "id": "58f17386",
   "metadata": {},
   "source": [
    "## Basic Docker Commands\n",
    "How to interact with Docker, including pulling images, running containers, and container management."
   ]
  },
  {
   "cell_type": "code",
   "execution_count": null,
   "id": "5ffec644",
   "metadata": {},
   "outputs": [],
   "source": [
    "# Pull an image from Docker Hub\n",
    "docker pull hello-world\n",
    "\n",
    "# Run a container\n",
    "docker run hello-world\n",
    "\n",
    "# List running containers\n",
    "docker ps\n",
    "\n",
    "# Stop a container\n",
    "docker stop <container_id>\n",
    "\n",
    "# Remove a container\n",
    "docker rm <container_id>"
   ]
  },
  {
   "cell_type": "markdown",
   "id": "33cbe1fe",
   "metadata": {},
   "source": [
    "## Working with Docker Images\n",
    "Building custom images and managing existing ones."
   ]
  },
  {
   "cell_type": "code",
   "execution_count": null,
   "id": "788c4948",
   "metadata": {},
   "outputs": [],
   "source": [
    "# Build an image from a Dockerfile\n",
    "docker build -t my-custom-image .\n",
    "\n",
    "# List all images\n",
    "docker images\n",
    "\n",
    "# Remove an image\n",
    "docker rmi <image_id>"
   ]
  },
  {
   "cell_type": "markdown",
   "id": "f5bba21a",
   "metadata": {},
   "source": [
    "## Networking in Docker\n",
    "Basics of Docker networking and linking containers."
   ]
  },
  {
   "cell_type": "code",
   "execution_count": null,
   "id": "b544919c",
   "metadata": {},
   "outputs": [],
   "source": [
    "# Link two containers\n",
    "docker run -d --name container1 some-image\n",
    "docker run -d --name container2 --link container1:some-alias another-image"
   ]
  },
  {
   "cell_type": "markdown",
   "id": "e7814d66",
   "metadata": {},
   "source": [
    "## Docker Volumes and Data Persistence\n",
    "Using volumes to persist data beyond the life of a container."
   ]
  },
  {
   "cell_type": "code",
   "execution_count": null,
   "id": "7dc46c4b",
   "metadata": {},
   "outputs": [],
   "source": [
    "# Create a volume\n",
    "docker volume create my-volume\n",
    "\n",
    "# Run a container with a volume\n",
    "docker run -d --name my-container -v my-volume:/data some-image"
   ]
  },
  {
   "cell_type": "markdown",
   "id": "5cdd74cf",
   "metadata": {},
   "source": [
    "## Docker Compose\n",
    "Learn how to use Docker Compose to run multi-container Docker applications. Here’s a basic docker-compose.yml example:"
   ]
  },
  {
   "cell_type": "code",
   "execution_count": null,
   "id": "8d4171a3",
   "metadata": {},
   "outputs": [],
   "source": [
    "# Example docker-compose.yml content\n",
    "echo \"version: '3'\n",
    "services:\n",
    "  web:\n",
    "    image: nginx\n",
    "    ports:\n",
    "      - '80:80'\n",
    "    volumes:\n",
    "      - ./html:/usr/share/nginx/html\""
   ]
  },
  {
   "cell_type": "markdown",
   "id": "f214891e",
   "metadata": {},
   "source": [
    "This configuration starts a web application and a Redis server, demonstrating Docker's ability to simplify complex application architecture management."
   ]
  },
  {
   "cell_type": "markdown",
   "id": "d09b5682",
   "metadata": {},
   "source": [
    "## Creating Your First Dockerfile\n",
    "Dive into creating a Dockerfile, which automates the building of container images:"
   ]
  },
  {
   "cell_type": "code",
   "execution_count": null,
   "id": "fbc88d5b",
   "metadata": {},
   "outputs": [],
   "source": [
    "# Use an official Python runtime as a parent image\n",
    "FROM python:3.8-slim\n",
    "\n",
    "# Set the working directory in the container\n",
    "WORKDIR /app\n",
    "\n",
    "# Copy the current directory contents into the container at /app\n",
    "ADD . /app\n",
    "\n",
    "# Install any needed packages specified in requirements.txt\n",
    "RUN pip install --trusted-host pypi.python.org -r requirements.txt\n",
    "\n",
    "# Make port 80 available to the world outside this container\n",
    "EXPOSE 80\n",
    "\n",
    "# Define environment variable\n",
    "ENV NAME World\n",
    "\n",
    "# Run app.py when the container launches\n",
    "CMD [\"python\", \"app.py\"]"
   ]
  },
  {
   "cell_type": "markdown",
   "id": "6cd004ef",
   "metadata": {},
   "source": [
    "This Dockerfile creates a Docker image that runs a simple Python application.\n"
   ]
  },
  {
   "cell_type": "markdown",
   "id": "c4927242",
   "metadata": {},
   "source": [
    "### Practical Applications\n",
    "- Development: Use Docker to manage dependencies and ensure that team members have an environment that matches production.\n",
    "- Testing: Quickly bring up and tear down test environments, making continuous integration and deployment pipelines more efficient.\n",
    "## Conclusion\n",
    "Docker stands out as a key tool in the modern development toolkit, catering to the need for consistent, efficient, and scalable software development. By understanding Docker basics and employing its tools, developers can significantly simplify the lifecycle of application development and deployment."
   ]
  }
 ],
 "metadata": {
  "language_info": {
   "name": "python"
  }
 },
 "nbformat": 4,
 "nbformat_minor": 5
}
